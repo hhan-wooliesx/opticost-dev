{
 "cells": [
  {
   "cell_type": "markdown",
   "id": "20945f20-9417-4003-ba07-c4581ee48636",
   "metadata": {},
   "source": [
    "# Opticost"
   ]
  },
  {
   "cell_type": "code",
   "execution_count": 9,
   "id": "413a314c-54df-4d9c-acf7-fc83b8cb93bc",
   "metadata": {},
   "outputs": [],
   "source": [
    "import pandas as pd\n",
    "import numpy as np\n",
    "import matplotlib.pyplot as plt\n",
    "import os"
   ]
  },
  {
   "cell_type": "markdown",
   "id": "43d6d1e4-57f9-43c0-a9f9-435e41bce105",
   "metadata": {},
   "source": [
    "## Read Data"
   ]
  },
  {
   "cell_type": "code",
   "execution_count": 3,
   "id": "f8de428e-bbb9-459b-8bb9-900411dda111",
   "metadata": {},
   "outputs": [
    {
     "name": "stdout",
     "output_type": "stream",
     "text": [
      "(17402, 6)\n"
     ]
    },
    {
     "data": {
      "text/html": [
       "<div>\n",
       "<style scoped>\n",
       "    .dataframe tbody tr th:only-of-type {\n",
       "        vertical-align: middle;\n",
       "    }\n",
       "\n",
       "    .dataframe tbody tr th {\n",
       "        vertical-align: top;\n",
       "    }\n",
       "\n",
       "    .dataframe thead th {\n",
       "        text-align: right;\n",
       "    }\n",
       "</style>\n",
       "<table border=\"1\" class=\"dataframe\">\n",
       "  <thead>\n",
       "    <tr style=\"text-align: right;\">\n",
       "      <th></th>\n",
       "      <th>seriesCode</th>\n",
       "      <th>seriesName</th>\n",
       "      <th>seriesDescription</th>\n",
       "      <th>class</th>\n",
       "      <th>subclass</th>\n",
       "      <th>product</th>\n",
       "    </tr>\n",
       "  </thead>\n",
       "  <tbody>\n",
       "    <tr>\n",
       "      <th>0</th>\n",
       "      <td>5N75</td>\n",
       "      <td>Tea pp RU</td>\n",
       "      <td>Tea|producer price|Russia|||</td>\n",
       "      <td>Beverages</td>\n",
       "      <td>Tea</td>\n",
       "      <td>Tea</td>\n",
       "    </tr>\n",
       "    <tr>\n",
       "      <th>1</th>\n",
       "      <td>6P50</td>\n",
       "      <td>Tea (loose) whs IN</td>\n",
       "      <td>Tea|loose|wholesale price|India||</td>\n",
       "      <td>Beverages</td>\n",
       "      <td>Tea</td>\n",
       "      <td>Tea</td>\n",
       "    </tr>\n",
       "    <tr>\n",
       "      <th>2</th>\n",
       "      <td>TE01</td>\n",
       "      <td>Tea BP1 best KE</td>\n",
       "      <td>Tea best|broken Pekoe grade 1 (BP1)|crush; tea...</td>\n",
       "      <td>Beverages</td>\n",
       "      <td>Tea</td>\n",
       "      <td>Tea best</td>\n",
       "    </tr>\n",
       "    <tr>\n",
       "      <th>3</th>\n",
       "      <td>TE02</td>\n",
       "      <td>Tea PF1 best KE</td>\n",
       "      <td>Tea best|Pekoe fannings grade 1 (PF1)|crush; t...</td>\n",
       "      <td>Beverages</td>\n",
       "      <td>Tea</td>\n",
       "      <td>Tea best</td>\n",
       "    </tr>\n",
       "    <tr>\n",
       "      <th>4</th>\n",
       "      <td>TE03</td>\n",
       "      <td>Tea PD best KE</td>\n",
       "      <td>Tea best|Pekoe dust (PD)|crush; tear; curl (CT...</td>\n",
       "      <td>Beverages</td>\n",
       "      <td>Tea</td>\n",
       "      <td>Tea best</td>\n",
       "    </tr>\n",
       "  </tbody>\n",
       "</table>\n",
       "</div>"
      ],
      "text/plain": [
       "  seriesCode          seriesName  \\\n",
       "0       5N75           Tea pp RU   \n",
       "1       6P50  Tea (loose) whs IN   \n",
       "2       TE01     Tea BP1 best KE   \n",
       "3       TE02     Tea PF1 best KE   \n",
       "4       TE03      Tea PD best KE   \n",
       "\n",
       "                                   seriesDescription      class subclass  \\\n",
       "0                       Tea|producer price|Russia|||  Beverages      Tea   \n",
       "1                  Tea|loose|wholesale price|India||  Beverages      Tea   \n",
       "2  Tea best|broken Pekoe grade 1 (BP1)|crush; tea...  Beverages      Tea   \n",
       "3  Tea best|Pekoe fannings grade 1 (PF1)|crush; t...  Beverages      Tea   \n",
       "4  Tea best|Pekoe dust (PD)|crush; tear; curl (CT...  Beverages      Tea   \n",
       "\n",
       "    product  \n",
       "0       Tea  \n",
       "1       Tea  \n",
       "2  Tea best  \n",
       "3  Tea best  \n",
       "4  Tea best  "
      ]
     },
     "execution_count": 3,
     "metadata": {},
     "output_type": "execute_result"
    }
   ],
   "source": [
    "df = pd.read_csv('data/poc_mintec_categorisation.csv', skiprows=1)\n",
    "print(df.shape)\n",
    "df.head()"
   ]
  },
  {
   "cell_type": "code",
   "execution_count": 14,
   "id": "189a2ba4-c794-4bf7-9964-22ceb62eb986",
   "metadata": {},
   "outputs": [],
   "source": [
    "def clean_df(df, descr_col):\n",
    "    \"\"\"\n",
    "    Extract the first chunk of description\n",
    "    Create concatenated class and subclass column\n",
    "    Create concatenated class, subclass and product column\n",
    "    \"\"\"\n",
    "    df[f'{descr_col}First'] = [i.split('|')[0] if '|' in i else i for i in df[descr_col].values]\n",
    "    df['class_subclass'] = df['class'] + '|' + df['subclass']\n",
    "    df['class_subclass_product'] = df['class'] + '|' + df['subclass'] + '|' + df['product']\n",
    "    df['class_product'] = df['class'] + '|' + df['product']\n",
    "    return df"
   ]
  },
  {
   "cell_type": "code",
   "execution_count": 15,
   "id": "0757b755-d6b0-44a9-820f-cc0f76ace0c7",
   "metadata": {},
   "outputs": [],
   "source": [
    "df = clean_df(df, descr_col='seriesDescription')"
   ]
  },
  {
   "cell_type": "code",
   "execution_count": 16,
   "id": "7e8daeb1-d607-4f1e-9c01-c5df432508e7",
   "metadata": {},
   "outputs": [
    {
     "data": {
      "text/html": [
       "<div>\n",
       "<style scoped>\n",
       "    .dataframe tbody tr th:only-of-type {\n",
       "        vertical-align: middle;\n",
       "    }\n",
       "\n",
       "    .dataframe tbody tr th {\n",
       "        vertical-align: top;\n",
       "    }\n",
       "\n",
       "    .dataframe thead th {\n",
       "        text-align: right;\n",
       "    }\n",
       "</style>\n",
       "<table border=\"1\" class=\"dataframe\">\n",
       "  <thead>\n",
       "    <tr style=\"text-align: right;\">\n",
       "      <th></th>\n",
       "      <th>seriesCode</th>\n",
       "      <th>seriesName</th>\n",
       "      <th>seriesDescription</th>\n",
       "      <th>class</th>\n",
       "      <th>subclass</th>\n",
       "      <th>product</th>\n",
       "      <th>seriesDescriptionFirst</th>\n",
       "      <th>class_subclass</th>\n",
       "      <th>class_subclass_product</th>\n",
       "      <th>class_product</th>\n",
       "    </tr>\n",
       "  </thead>\n",
       "  <tbody>\n",
       "    <tr>\n",
       "      <th>0</th>\n",
       "      <td>5N75</td>\n",
       "      <td>Tea pp RU</td>\n",
       "      <td>Tea|producer price|Russia|||</td>\n",
       "      <td>Beverages</td>\n",
       "      <td>Tea</td>\n",
       "      <td>Tea</td>\n",
       "      <td>Tea</td>\n",
       "      <td>Beverages|Tea</td>\n",
       "      <td>Beverages|Tea|Tea</td>\n",
       "      <td>Beverages|Tea</td>\n",
       "    </tr>\n",
       "    <tr>\n",
       "      <th>1</th>\n",
       "      <td>6P50</td>\n",
       "      <td>Tea (loose) whs IN</td>\n",
       "      <td>Tea|loose|wholesale price|India||</td>\n",
       "      <td>Beverages</td>\n",
       "      <td>Tea</td>\n",
       "      <td>Tea</td>\n",
       "      <td>Tea</td>\n",
       "      <td>Beverages|Tea</td>\n",
       "      <td>Beverages|Tea|Tea</td>\n",
       "      <td>Beverages|Tea</td>\n",
       "    </tr>\n",
       "    <tr>\n",
       "      <th>2</th>\n",
       "      <td>TE01</td>\n",
       "      <td>Tea BP1 best KE</td>\n",
       "      <td>Tea best|broken Pekoe grade 1 (BP1)|crush; tea...</td>\n",
       "      <td>Beverages</td>\n",
       "      <td>Tea</td>\n",
       "      <td>Tea best</td>\n",
       "      <td>Tea best</td>\n",
       "      <td>Beverages|Tea</td>\n",
       "      <td>Beverages|Tea|Tea best</td>\n",
       "      <td>Beverages|Tea best</td>\n",
       "    </tr>\n",
       "    <tr>\n",
       "      <th>3</th>\n",
       "      <td>TE02</td>\n",
       "      <td>Tea PF1 best KE</td>\n",
       "      <td>Tea best|Pekoe fannings grade 1 (PF1)|crush; t...</td>\n",
       "      <td>Beverages</td>\n",
       "      <td>Tea</td>\n",
       "      <td>Tea best</td>\n",
       "      <td>Tea best</td>\n",
       "      <td>Beverages|Tea</td>\n",
       "      <td>Beverages|Tea|Tea best</td>\n",
       "      <td>Beverages|Tea best</td>\n",
       "    </tr>\n",
       "    <tr>\n",
       "      <th>4</th>\n",
       "      <td>TE03</td>\n",
       "      <td>Tea PD best KE</td>\n",
       "      <td>Tea best|Pekoe dust (PD)|crush; tear; curl (CT...</td>\n",
       "      <td>Beverages</td>\n",
       "      <td>Tea</td>\n",
       "      <td>Tea best</td>\n",
       "      <td>Tea best</td>\n",
       "      <td>Beverages|Tea</td>\n",
       "      <td>Beverages|Tea|Tea best</td>\n",
       "      <td>Beverages|Tea best</td>\n",
       "    </tr>\n",
       "  </tbody>\n",
       "</table>\n",
       "</div>"
      ],
      "text/plain": [
       "  seriesCode          seriesName  \\\n",
       "0       5N75           Tea pp RU   \n",
       "1       6P50  Tea (loose) whs IN   \n",
       "2       TE01     Tea BP1 best KE   \n",
       "3       TE02     Tea PF1 best KE   \n",
       "4       TE03      Tea PD best KE   \n",
       "\n",
       "                                   seriesDescription      class subclass  \\\n",
       "0                       Tea|producer price|Russia|||  Beverages      Tea   \n",
       "1                  Tea|loose|wholesale price|India||  Beverages      Tea   \n",
       "2  Tea best|broken Pekoe grade 1 (BP1)|crush; tea...  Beverages      Tea   \n",
       "3  Tea best|Pekoe fannings grade 1 (PF1)|crush; t...  Beverages      Tea   \n",
       "4  Tea best|Pekoe dust (PD)|crush; tear; curl (CT...  Beverages      Tea   \n",
       "\n",
       "    product seriesDescriptionFirst class_subclass  class_subclass_product  \\\n",
       "0       Tea                    Tea  Beverages|Tea       Beverages|Tea|Tea   \n",
       "1       Tea                    Tea  Beverages|Tea       Beverages|Tea|Tea   \n",
       "2  Tea best               Tea best  Beverages|Tea  Beverages|Tea|Tea best   \n",
       "3  Tea best               Tea best  Beverages|Tea  Beverages|Tea|Tea best   \n",
       "4  Tea best               Tea best  Beverages|Tea  Beverages|Tea|Tea best   \n",
       "\n",
       "        class_product  \n",
       "0       Beverages|Tea  \n",
       "1       Beverages|Tea  \n",
       "2  Beverages|Tea best  \n",
       "3  Beverages|Tea best  \n",
       "4  Beverages|Tea best  "
      ]
     },
     "execution_count": 16,
     "metadata": {},
     "output_type": "execute_result"
    }
   ],
   "source": [
    "df.head()"
   ]
  },
  {
   "cell_type": "markdown",
   "id": "5bb70427-e80b-484d-b281-e3eb95b8f9ca",
   "metadata": {},
   "source": [
    "## EDA"
   ]
  },
  {
   "cell_type": "code",
   "execution_count": 7,
   "id": "cf1e898f-5dbc-4340-94fe-a3b20ba6817e",
   "metadata": {},
   "outputs": [
    {
     "data": {
      "text/plain": [
       "(18, 529, 537)"
      ]
     },
     "execution_count": 7,
     "metadata": {},
     "output_type": "execute_result"
    }
   ],
   "source": [
    "df['class'].nunique(), df['subclass'].nunique(), df['class_subclass'].nunique()"
   ]
  },
  {
   "cell_type": "code",
   "execution_count": 10,
   "id": "eba08965-ecd8-4b3b-8f79-4e16026037b9",
   "metadata": {},
   "outputs": [
    {
     "data": {
      "image/png": "[encoded data removed]",
      "text/plain": [
       "<Figure size 640x480 with 1 Axes>"
      ]
     },
     "metadata": {},
     "output_type": "display_data"
    }
   ],
   "source": [
    "df[\"class\"].value_counts(ascending=True, normalize=True).plot.barh()\n",
    "plt.title(\"Frequency of Classes\")\n",
    "plt.show()"
   ]
  },
  {
   "cell_type": "code",
   "execution_count": 17,
   "id": "245cce0a-ea27-4372-9392-7fa55ad7d20c",
   "metadata": {},
   "outputs": [
    {
     "name": "stdout",
     "output_type": "stream",
     "text": [
      "4052\n"
     ]
    }
   ],
   "source": [
    "print(df['product'].nunique())"
   ]
  },
  {
   "cell_type": "code",
   "execution_count": 18,
   "id": "a731debd-a96f-4526-af34-ff0c4e8df666",
   "metadata": {},
   "outputs": [
    {
     "name": "stdout",
     "output_type": "stream",
     "text": [
      "4052 4178\n"
     ]
    }
   ],
   "source": [
    "print(df['product'].nunique(), df['class_subclass_product'].nunique())"
   ]
  },
  {
   "cell_type": "code",
   "execution_count": 19,
   "id": "cfddd790-d024-4ddf-abbd-ecdff669a128",
   "metadata": {},
   "outputs": [
    {
     "name": "stdout",
     "output_type": "stream",
     "text": [
      "17335 4059\n"
     ]
    }
   ],
   "source": [
    "print(df['seriesDescription'].nunique(), df['seriesDescriptionFirst'].nunique())"
   ]
  },
  {
   "cell_type": "code",
   "execution_count": 20,
   "id": "a3bf84b4-245a-4232-80a1-05c96246c290",
   "metadata": {},
   "outputs": [
    {
     "name": "stdout",
     "output_type": "stream",
     "text": [
      "seriesCode: 1R03\n",
      "seriesName: Electricity base PT\n",
      "seriesDescription: Electricity base load|day ahead spot price|Portugal|||\n",
      "class: Energy & Transport\n",
      "subclass: Electricity\n",
      "product: Electricity base load\n",
      "seriesDescriptionFirst: Electricity base load\n",
      "class_subclass: Energy & Transport|Electricity\n",
      "class_subclass_product: Energy & Transport|Electricity|Electricity base load\n",
      "class_product: Energy & Transport|Electricity base load\n"
     ]
    }
   ],
   "source": [
    "# Example row\n",
    "i = np.random.choice(range(df.shape[0]))\n",
    "row_i = df.iloc[i, :]\n",
    "for idx, val in zip(row_i.index, row_i.values):\n",
    "    print(f'{idx}: {val}')"
   ]
  },
  {
   "cell_type": "code",
   "execution_count": null,
   "id": "e12da9db-f068-4d01-9789-488d88499128",
   "metadata": {},
   "outputs": [],
   "source": []
  }
 ],
 "metadata": {
  "environment": {
   "kernel": "py39",
   "name": "pytorch-gpu.2-0.m110",
   "type": "gcloud",
   "uri": "gcr.io/deeplearning-platform-release/pytorch-gpu.2-0:m110"
  },
  "kernelspec": {
   "display_name": "py39",
   "language": "python",
   "name": "py39"
  },
  "language_info": {
   "codemirror_mode": {
    "name": "ipython",
    "version": 3
   },
   "file_extension": ".py",
   "mimetype": "text/x-python",
   "name": "python",
   "nbconvert_exporter": "python",
   "pygments_lexer": "ipython3",
   "version": "3.9.17"
  }
 },
 "nbformat": 4,
 "nbformat_minor": 5
}
